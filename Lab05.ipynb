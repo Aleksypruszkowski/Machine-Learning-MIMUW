{
  "cells": [
    {
      "cell_type": "markdown",
      "metadata": {
        "id": "view-in-github",
        "colab_type": "text"
      },
      "source": [
        "<a href=\"https://colab.research.google.com/github/Aleksypruszkowski/Machine-Learning-MIMUW/blob/main/Lab05.ipynb\" target=\"_parent\"><img src=\"https://colab.research.google.com/assets/colab-badge.svg\" alt=\"Open In Colab\"/></a>"
      ]
    },
    {
      "cell_type": "markdown",
      "source": [
        "# Lab 5 - Kernel Methods\n",
        "\n",
        "### Author: Aleksy Pruszkowski\n"
      ],
      "metadata": {
        "id": "xl_-W_aXqjJ2"
      },
      "id": "xl_-W_aXqjJ2"
    },
    {
      "cell_type": "markdown",
      "source": [
        "Since the decision function for kernel SVM takes the form\n",
        "$$\n",
        "f(x) = \\text{sign}\\left(\\sum_{i=1}^{n} \\alpha_i y_i K(x_i, x) + b\\right),\n",
        "$$\n",
        "the decision boundary consists of all $x$ such that $f(x)=0$\n",
        "\n",
        "Using the kernel trick we are looking for support vectors only on the surface of the function $\\phi(x) = [x_1^2, \\sqrt{2} x_1 x_2, x_2^2]$. If we were to do linear SVM on the dataset projected onto 3d space using $\\phi$ we would obtain a hyperplane and on its surface would be decision boundry for kernel SVM.\n",
        "If we suppose that linear SVM hyperplane is:\n",
        "$$ a_1z_1+a_2z_2+a_3z_3+b=0, $$\n",
        "then projecting back onto 2d space we get\n",
        "$$ a_1x_1^2+a_2x_2^2+a_3\\sqrt 2x_1x_2+b=0 $$\n",
        "which is the equation for conic shapes (eg. circular, eliptical)."
      ],
      "metadata": {
        "id": "tRDBTa_k9vdN"
      },
      "id": "tRDBTa_k9vdN"
    },
    {
      "cell_type": "markdown",
      "source": [
        "# **Homework Assignment: Polynomial Kernel SVM in 3D Feature Space**\n",
        "-------------------------------\n",
        "You have seen how a polynomial kernel of degree 2 can map the original 2D data\n",
        "$$(x_1, x_2)$$\n",
        "to a 3D feature space via some transformation\n",
        "$$\n",
        "\\phi(\\mathbf{x}).\n",
        "$$\n",
        "You also saw that **the decision boundary** in the 3D space—expected to be a hyperplane—**appears** as a circular surface when visualized.\n",
        "\n",
        "## **Primary Question**\n",
        "\n",
        "**Why does the SVM's decision boundary in the higher-dimensional (3D) feature space *not* look like a “flat” hyperplane,**\n",
        "even though we *know* the classifier’s separating surface *is* mathematically linear in that space?\n",
        "\n",
        "## **Secondary Question**\n",
        "\n",
        "Explain **why** a hyperplane in 3D becomes a **circular (or elliptical) curve** when viewed back in the original 2D plane of the dataset.\n",
        "\n",
        "## **Task & Deliverables**\n",
        "\n",
        "1. **Colab Notebook**  \n",
        "   - Create a **Colab notebook** that:\n",
        "     - Clearly **answers** both the **primary** and **secondary** questions with appropriate plots and short explanations.\n",
        "     - Uses Python code to visualise and create plots.\n",
        "   - Include a discussion (in markdown cells) illustrating the geometry behind the mapping\n",
        "     $$\\phi(\\mathbf{x})$$\n",
        "     and the resulting decision boundary.\n",
        "   - Use\n",
        "     `$` symbol to delimit inline equations and `$$` to delimit full-line equations.\n",
        "\n",
        "2. **Publish on GitHub**  \n",
        "   - Place the Colab notebook in your **GitHub repository** for this course.\n",
        "   - In your repository’s **README**, add a **link** to the notebook and also include an **“Open in Colab”** badge at the top of the notebook so it can be launched directly from GitHub.\n",
        "\n",
        "\n"
      ],
      "metadata": {
        "id": "vWQ6h3v8GmMZ"
      },
      "id": "vWQ6h3v8GmMZ"
    }
  ],
  "metadata": {
    "colab": {
      "provenance": [],
      "include_colab_link": true
    },
    "language_info": {
      "name": "python"
    },
    "kernelspec": {
      "name": "python3",
      "display_name": "Python 3"
    }
  },
  "nbformat": 4,
  "nbformat_minor": 5
}